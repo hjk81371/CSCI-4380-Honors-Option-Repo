{
 "cells": [
  {
   "cell_type": "markdown",
   "id": "275818fb",
   "metadata": {},
   "source": [
    "\n",
    "# Human Activity Recognition (HAR) with Textual Descriptions of Sensor Triggers (TDOST)\n",
    "This notebook demonstrates a layout-agnostic Human Activity Recognition (HAR) model using the TDOST (Textual Descriptions of Sensor Triggers) methodology. \n",
    "The model is trained on sensor data, converted into natural language descriptions, to improve generalizability across different smart home layouts.\n",
    "\n",
    "The data provided in `hh101.ann.txt` includes sensor triggers with associated activities, which we'll use to generate TDOST embeddings for activity recognition.\n"
   ]
  },
  {
   "cell_type": "code",
   "execution_count": 2,
   "id": "fdf5198f",
   "metadata": {},
   "outputs": [
    {
     "data": {
      "text/html": [
       "<div>\n",
       "<style scoped>\n",
       "    .dataframe tbody tr th:only-of-type {\n",
       "        vertical-align: middle;\n",
       "    }\n",
       "\n",
       "    .dataframe tbody tr th {\n",
       "        vertical-align: top;\n",
       "    }\n",
       "\n",
       "    .dataframe thead th {\n",
       "        text-align: right;\n",
       "    }\n",
       "</style>\n",
       "<table border=\"1\" class=\"dataframe\">\n",
       "  <thead>\n",
       "    <tr style=\"text-align: right;\">\n",
       "      <th></th>\n",
       "      <th>timestamp</th>\n",
       "      <th>sensor_id</th>\n",
       "      <th>location</th>\n",
       "      <th>value</th>\n",
       "      <th>sensor_type</th>\n",
       "      <th>activity</th>\n",
       "    </tr>\n",
       "  </thead>\n",
       "  <tbody>\n",
       "    <tr>\n",
       "      <th>2012-09-13 18:19:55.348630</th>\n",
       "      <td>M008</td>\n",
       "      <td>LivingRoom</td>\n",
       "      <td>Chair</td>\n",
       "      <td>ON</td>\n",
       "      <td>Control4-Motion</td>\n",
       "      <td>Watch_TV</td>\n",
       "    </tr>\n",
       "    <tr>\n",
       "      <th>2012-07-21 23:43:20.142586</th>\n",
       "      <td>M003</td>\n",
       "      <td>Kitchen</td>\n",
       "      <td>Kitchen</td>\n",
       "      <td>ON</td>\n",
       "      <td>Control4-Motion</td>\n",
       "      <td>Other_Activity</td>\n",
       "    </tr>\n",
       "    <tr>\n",
       "      <th>2012-07-21 19:13:48.817447</th>\n",
       "      <td>M008</td>\n",
       "      <td>LivingRoom</td>\n",
       "      <td>Chair</td>\n",
       "      <td>ON</td>\n",
       "      <td>Control4-Motion</td>\n",
       "      <td>Watch_TV</td>\n",
       "    </tr>\n",
       "    <tr>\n",
       "      <th>2012-09-12 21:31:43.649158</th>\n",
       "      <td>LS003</td>\n",
       "      <td>Ignore</td>\n",
       "      <td>Ignore</td>\n",
       "      <td>17</td>\n",
       "      <td>Control4-LightSensor</td>\n",
       "      <td>Cook</td>\n",
       "    </tr>\n",
       "    <tr>\n",
       "      <th>2012-09-09 07:08:42.323352</th>\n",
       "      <td>MA015</td>\n",
       "      <td>Bathroom</td>\n",
       "      <td>Bathroom</td>\n",
       "      <td>ON</td>\n",
       "      <td>Control4-MotionArea</td>\n",
       "      <td>Toilet</td>\n",
       "    </tr>\n",
       "  </tbody>\n",
       "</table>\n",
       "</div>"
      ],
      "text/plain": [
       "                           timestamp   sensor_id  location value  \\\n",
       "2012-09-13 18:19:55.348630      M008  LivingRoom     Chair    ON   \n",
       "2012-07-21 23:43:20.142586      M003     Kitchen   Kitchen    ON   \n",
       "2012-07-21 19:13:48.817447      M008  LivingRoom     Chair    ON   \n",
       "2012-09-12 21:31:43.649158     LS003      Ignore    Ignore    17   \n",
       "2012-09-09 07:08:42.323352     MA015    Bathroom  Bathroom    ON   \n",
       "\n",
       "                                     sensor_type        activity  \n",
       "2012-09-13 18:19:55.348630       Control4-Motion        Watch_TV  \n",
       "2012-07-21 23:43:20.142586       Control4-Motion  Other_Activity  \n",
       "2012-07-21 19:13:48.817447       Control4-Motion        Watch_TV  \n",
       "2012-09-12 21:31:43.649158  Control4-LightSensor            Cook  \n",
       "2012-09-09 07:08:42.323352   Control4-MotionArea          Toilet  "
      ]
     },
     "execution_count": 2,
     "metadata": {},
     "output_type": "execute_result"
    }
   ],
   "source": [
    "\n",
    "import pandas as pd\n",
    "\n",
    "# Load the dataset\n",
    "# data_path = '/Users/harrisonkirstein/Desktop/CSCI-4380-Honors-Option-Repo/CSCI 4380 Honors Option Project/hh101/hh101.ann.txt'\n",
    "data_path = '/Users/harrisonkirstein/Documents/GitHub/CSCI-4380-Honors-Option-Repo/CSCI 4380 Honors Option Project/hh101/hh101.ann.txt'\n",
    "columns = ['timestamp', 'sensor_id', 'location', 'value', 'sensor_type', 'activity']\n",
    "df = pd.read_csv(data_path, sep='\\t', header=None, names=columns)\n",
    "\n",
    "sample_df = df.sample(n=100000, random_state=42)  # random_state ensures reproducibility\n",
    "\n",
    "\n",
    "# Display the data\n",
    "sample_df.head()\n"
   ]
  },
  {
   "cell_type": "markdown",
   "id": "9ed1b5fd",
   "metadata": {},
   "source": [
    "\n",
    "## Generate TDOST Descriptions\n",
    "We will create natural language descriptions for each sensor event by incorporating contextual information from the sensor type, location, and value. \n",
    "This will result in sentences that can be processed by a language model to produce embeddings for classification.\n"
   ]
  },
  {
   "cell_type": "code",
   "execution_count": 8,
   "id": "3ee2bcb8",
   "metadata": {},
   "outputs": [
    {
     "data": {
      "text/html": [
       "<div>\n",
       "<style scoped>\n",
       "    .dataframe tbody tr th:only-of-type {\n",
       "        vertical-align: middle;\n",
       "    }\n",
       "\n",
       "    .dataframe tbody tr th {\n",
       "        vertical-align: top;\n",
       "    }\n",
       "\n",
       "    .dataframe thead th {\n",
       "        text-align: right;\n",
       "    }\n",
       "</style>\n",
       "<table border=\"1\" class=\"dataframe\">\n",
       "  <thead>\n",
       "    <tr style=\"text-align: right;\">\n",
       "      <th></th>\n",
       "      <th>tdost_description</th>\n",
       "      <th>activity</th>\n",
       "    </tr>\n",
       "  </thead>\n",
       "  <tbody>\n",
       "    <tr>\n",
       "      <th>2012-07-20 10:38:54.512364</th>\n",
       "      <td>Control4-Motion sensor in Entry fired with val...</td>\n",
       "      <td>Step_Out</td>\n",
       "    </tr>\n",
       "    <tr>\n",
       "      <th>2012-07-20 10:38:54.653634</th>\n",
       "      <td>Control4-LightSensor sensor in Ignore fired wi...</td>\n",
       "      <td>Step_Out</td>\n",
       "    </tr>\n",
       "    <tr>\n",
       "      <th>2012-07-20 10:38:57.448892</th>\n",
       "      <td>Control4-LightSensor sensor in Ignore fired wi...</td>\n",
       "      <td>Step_Out</td>\n",
       "    </tr>\n",
       "    <tr>\n",
       "      <th>2012-07-20 10:38:58.385068</th>\n",
       "      <td>Control4-LightSensor sensor in Ignore fired wi...</td>\n",
       "      <td>Step_Out</td>\n",
       "    </tr>\n",
       "    <tr>\n",
       "      <th>2012-07-20 10:38:59.335432</th>\n",
       "      <td>Control4-LightSensor sensor in Ignore fired wi...</td>\n",
       "      <td>Step_Out</td>\n",
       "    </tr>\n",
       "  </tbody>\n",
       "</table>\n",
       "</div>"
      ],
      "text/plain": [
       "                                                            tdost_description  \\\n",
       "2012-07-20 10:38:54.512364  Control4-Motion sensor in Entry fired with val...   \n",
       "2012-07-20 10:38:54.653634  Control4-LightSensor sensor in Ignore fired wi...   \n",
       "2012-07-20 10:38:57.448892  Control4-LightSensor sensor in Ignore fired wi...   \n",
       "2012-07-20 10:38:58.385068  Control4-LightSensor sensor in Ignore fired wi...   \n",
       "2012-07-20 10:38:59.335432  Control4-LightSensor sensor in Ignore fired wi...   \n",
       "\n",
       "                            activity  \n",
       "2012-07-20 10:38:54.512364  Step_Out  \n",
       "2012-07-20 10:38:54.653634  Step_Out  \n",
       "2012-07-20 10:38:57.448892  Step_Out  \n",
       "2012-07-20 10:38:58.385068  Step_Out  \n",
       "2012-07-20 10:38:59.335432  Step_Out  "
      ]
     },
     "execution_count": 8,
     "metadata": {},
     "output_type": "execute_result"
    }
   ],
   "source": [
    "\n",
    "# Function to create a TDOST sentence for each sensor event\n",
    "def generate_tdost(row):\n",
    "    return f\"{row['sensor_type']} sensor in {row['location']} fired with value {row['value']}\"\n",
    "\n",
    "# Apply the function to generate TDOST sentences\n",
    "df['tdost_description'] = df.apply(generate_tdost, axis=1)\n",
    "df[['tdost_description', 'activity']].head()\n"
   ]
  },
  {
   "cell_type": "markdown",
   "id": "01aed39d",
   "metadata": {},
   "source": [
    "\n",
    "## Text Embedding with Pre-trained Sentence Encoder\n",
    "Using a pre-trained sentence encoder (e.g., Sentence-BERT), we convert the TDOST descriptions into embeddings. \n",
    "These embeddings represent the contextual information within each description and serve as input for the activity classifier.\n"
   ]
  },
  {
   "cell_type": "code",
   "execution_count": 9,
   "id": "e98f1bdb",
   "metadata": {},
   "outputs": [
    {
     "data": {
      "application/vnd.jupyter.widget-view+json": {
       "model_id": "3b17fd2509de49a0923f333bc4f5e2b0",
       "version_major": 2,
       "version_minor": 0
      },
      "text/plain": [
       "Batches:   0%|          | 0/5023 [00:00<?, ?it/s]"
      ]
     },
     "metadata": {},
     "output_type": "display_data"
    },
    {
     "data": {
      "text/html": [
       "<div>\n",
       "<style scoped>\n",
       "    .dataframe tbody tr th:only-of-type {\n",
       "        vertical-align: middle;\n",
       "    }\n",
       "\n",
       "    .dataframe tbody tr th {\n",
       "        vertical-align: top;\n",
       "    }\n",
       "\n",
       "    .dataframe thead th {\n",
       "        text-align: right;\n",
       "    }\n",
       "</style>\n",
       "<table border=\"1\" class=\"dataframe\">\n",
       "  <thead>\n",
       "    <tr style=\"text-align: right;\">\n",
       "      <th></th>\n",
       "      <th>timestamp</th>\n",
       "      <th>sensor_id</th>\n",
       "      <th>location</th>\n",
       "      <th>value</th>\n",
       "      <th>sensor_type</th>\n",
       "      <th>activity</th>\n",
       "      <th>tdost_description</th>\n",
       "    </tr>\n",
       "  </thead>\n",
       "  <tbody>\n",
       "    <tr>\n",
       "      <th>2012-09-13 18:19:55.348630</th>\n",
       "      <td>M008</td>\n",
       "      <td>LivingRoom</td>\n",
       "      <td>Chair</td>\n",
       "      <td>ON</td>\n",
       "      <td>Control4-Motion</td>\n",
       "      <td>Watch_TV</td>\n",
       "      <td>Control4-Motion sensor in Chair fired with val...</td>\n",
       "    </tr>\n",
       "    <tr>\n",
       "      <th>2012-07-21 23:43:20.142586</th>\n",
       "      <td>M003</td>\n",
       "      <td>Kitchen</td>\n",
       "      <td>Kitchen</td>\n",
       "      <td>ON</td>\n",
       "      <td>Control4-Motion</td>\n",
       "      <td>Other_Activity</td>\n",
       "      <td>Control4-Motion sensor in Kitchen fired with v...</td>\n",
       "    </tr>\n",
       "    <tr>\n",
       "      <th>2012-07-21 19:13:48.817447</th>\n",
       "      <td>M008</td>\n",
       "      <td>LivingRoom</td>\n",
       "      <td>Chair</td>\n",
       "      <td>ON</td>\n",
       "      <td>Control4-Motion</td>\n",
       "      <td>Watch_TV</td>\n",
       "      <td>Control4-Motion sensor in Chair fired with val...</td>\n",
       "    </tr>\n",
       "    <tr>\n",
       "      <th>2012-09-12 21:31:43.649158</th>\n",
       "      <td>LS003</td>\n",
       "      <td>Ignore</td>\n",
       "      <td>Ignore</td>\n",
       "      <td>17</td>\n",
       "      <td>Control4-LightSensor</td>\n",
       "      <td>Cook</td>\n",
       "      <td>Control4-LightSensor sensor in Ignore fired wi...</td>\n",
       "    </tr>\n",
       "    <tr>\n",
       "      <th>2012-09-09 07:08:42.323352</th>\n",
       "      <td>MA015</td>\n",
       "      <td>Bathroom</td>\n",
       "      <td>Bathroom</td>\n",
       "      <td>ON</td>\n",
       "      <td>Control4-MotionArea</td>\n",
       "      <td>Toilet</td>\n",
       "      <td>Control4-MotionArea sensor in Bathroom fired w...</td>\n",
       "    </tr>\n",
       "  </tbody>\n",
       "</table>\n",
       "</div>"
      ],
      "text/plain": [
       "                           timestamp   sensor_id  location value  \\\n",
       "2012-09-13 18:19:55.348630      M008  LivingRoom     Chair    ON   \n",
       "2012-07-21 23:43:20.142586      M003     Kitchen   Kitchen    ON   \n",
       "2012-07-21 19:13:48.817447      M008  LivingRoom     Chair    ON   \n",
       "2012-09-12 21:31:43.649158     LS003      Ignore    Ignore    17   \n",
       "2012-09-09 07:08:42.323352     MA015    Bathroom  Bathroom    ON   \n",
       "\n",
       "                                     sensor_type        activity  \\\n",
       "2012-09-13 18:19:55.348630       Control4-Motion        Watch_TV   \n",
       "2012-07-21 23:43:20.142586       Control4-Motion  Other_Activity   \n",
       "2012-07-21 19:13:48.817447       Control4-Motion        Watch_TV   \n",
       "2012-09-12 21:31:43.649158  Control4-LightSensor            Cook   \n",
       "2012-09-09 07:08:42.323352   Control4-MotionArea          Toilet   \n",
       "\n",
       "                                                            tdost_description  \n",
       "2012-09-13 18:19:55.348630  Control4-Motion sensor in Chair fired with val...  \n",
       "2012-07-21 23:43:20.142586  Control4-Motion sensor in Kitchen fired with v...  \n",
       "2012-07-21 19:13:48.817447  Control4-Motion sensor in Chair fired with val...  \n",
       "2012-09-12 21:31:43.649158  Control4-LightSensor sensor in Ignore fired wi...  \n",
       "2012-09-09 07:08:42.323352  Control4-MotionArea sensor in Bathroom fired w...  "
      ]
     },
     "execution_count": 9,
     "metadata": {},
     "output_type": "execute_result"
    }
   ],
   "source": [
    "\n",
    "from sentence_transformers import SentenceTransformer\n",
    "\n",
    "# Load a pre-trained sentence transformer model\n",
    "model = SentenceTransformer('all-MiniLM-L6-v2')\n",
    "\n",
    "embeddings = model.encode(df['tdost_description'].tolist(), batch_size=64, show_progress_bar=True)\n",
    "\n",
    "# Generate embeddings for each TDOST description\n",
    "# sample_df['embedding'] = sample_df['tdost_description'].apply(lambda x: model.encode(x))\n",
    "sample_df.head()\n"
   ]
  },
  {
   "cell_type": "markdown",
   "id": "b3330b58",
   "metadata": {},
   "source": [
    "\n",
    "## Model Definition and Training\n",
    "We define a simple neural network classifier to predict activities based on the TDOST embeddings. \n",
    "The model is trained using labeled activities in the dataset.\n"
   ]
  },
  {
   "cell_type": "code",
   "execution_count": 11,
   "id": "b5be385a",
   "metadata": {},
   "outputs": [
    {
     "data": {
      "text/plain": [
       "321457"
      ]
     },
     "execution_count": 11,
     "metadata": {},
     "output_type": "execute_result"
    }
   ],
   "source": [
    "len(embeddings)"
   ]
  },
  {
   "cell_type": "code",
   "execution_count": 12,
   "id": "14fb0cc2",
   "metadata": {},
   "outputs": [
    {
     "name": "stderr",
     "output_type": "stream",
     "text": [
      "/opt/anaconda3/lib/python3.12/site-packages/sklearn/metrics/_classification.py:1531: UndefinedMetricWarning: Precision is ill-defined and being set to 0.0 in labels with no predicted samples. Use `zero_division` parameter to control this behavior.\n",
      "  _warn_prf(average, modifier, f\"{metric.capitalize()} is\", len(result))\n",
      "/opt/anaconda3/lib/python3.12/site-packages/sklearn/metrics/_classification.py:1531: UndefinedMetricWarning: Precision is ill-defined and being set to 0.0 in labels with no predicted samples. Use `zero_division` parameter to control this behavior.\n",
      "  _warn_prf(average, modifier, f\"{metric.capitalize()} is\", len(result))\n"
     ]
    },
    {
     "name": "stdout",
     "output_type": "stream",
     "text": [
      "                       precision    recall  f1-score   support\n",
      "\n",
      "                Bathe       0.33      0.93      0.49      3290\n",
      "Bed_Toilet_Transition       0.00      0.00      0.00       152\n",
      "                 Cook       0.00      0.00      0.00       525\n",
      "       Cook_Breakfast       0.28      0.75      0.41      3315\n",
      "          Cook_Dinner       0.00      0.00      0.00      1106\n",
      "           Cook_Lunch       0.00      0.00      0.00       661\n",
      "                Dress       0.00      0.00      0.00      2806\n",
      "                Drink       0.00      0.00      0.00       769\n",
      "                  Eat       0.00      0.00      0.00       103\n",
      "        Eat_Breakfast       0.00      0.00      0.00       705\n",
      "           Eat_Dinner       0.00      0.00      0.00       207\n",
      "            Eat_Lunch       0.00      0.00      0.00       169\n",
      "           Enter_Home       0.23      0.05      0.09       507\n",
      "     Entertain_Guests       0.00      0.00      0.00       530\n",
      "         Evening_Meds       0.00      0.00      0.00       644\n",
      "          Go_To_Sleep       0.00      0.00      0.00        82\n",
      "                Groom       0.00      0.00      0.00       354\n",
      "           Leave_Home       0.28      0.05      0.09       622\n",
      "         Morning_Meds       0.00      0.00      0.00       713\n",
      "       Other_Activity       0.50      0.86      0.63     18033\n",
      "     Personal_Hygiene       0.20      0.02      0.04      2622\n",
      "                Phone       0.00      0.00      0.00       385\n",
      "                 Read       0.00      0.00      0.00      1751\n",
      "                Relax       0.00      0.00      0.00      1169\n",
      "                Sleep       0.30      0.04      0.07      2272\n",
      "     Sleep_Out_Of_Bed       0.00      0.00      0.00      3317\n",
      "             Step_Out       0.00      0.00      0.00       291\n",
      "               Toilet       0.00      0.00      0.00      2782\n",
      "              Wake_Up       0.00      0.00      0.00        89\n",
      "Wash_Breakfast_Dishes       0.00      0.00      0.00       676\n",
      "   Wash_Dinner_Dishes       0.00      0.00      0.00       480\n",
      "          Wash_Dishes       0.00      0.00      0.00       614\n",
      "    Wash_Lunch_Dishes       0.00      0.00      0.00       133\n",
      "             Watch_TV       0.65      0.76      0.70     12385\n",
      "        Work_At_Table       0.00      0.00      0.00        33\n",
      "\n",
      "             accuracy                           0.48     64292\n",
      "            macro avg       0.08      0.10      0.07     64292\n",
      "         weighted avg       0.32      0.48      0.36     64292\n",
      "\n"
     ]
    },
    {
     "name": "stderr",
     "output_type": "stream",
     "text": [
      "/opt/anaconda3/lib/python3.12/site-packages/sklearn/metrics/_classification.py:1531: UndefinedMetricWarning: Precision is ill-defined and being set to 0.0 in labels with no predicted samples. Use `zero_division` parameter to control this behavior.\n",
      "  _warn_prf(average, modifier, f\"{metric.capitalize()} is\", len(result))\n"
     ]
    }
   ],
   "source": [
    "\n",
    "from sklearn.model_selection import train_test_split\n",
    "from sklearn.linear_model import LogisticRegression\n",
    "from sklearn.metrics import classification_report\n",
    "\n",
    "# Convert embeddings to list for training\n",
    "X = embeddings\n",
    "y = df['activity']\n",
    "\n",
    "# Train-test split\n",
    "X_train, X_test, y_train, y_test = train_test_split(X, y, test_size=0.2, random_state=42)\n",
    "\n",
    "# Train a classifier\n",
    "clf = LogisticRegression(max_iter=1000)\n",
    "clf.fit(X_train, y_train)\n",
    "\n",
    "# Evaluate on test set\n",
    "y_pred = clf.predict(X_test)\n",
    "print(classification_report(y_test, y_pred))\n"
   ]
  },
  {
   "cell_type": "markdown",
   "id": "9a8410fc",
   "metadata": {},
   "source": [
    "\n",
    "## Summary\n",
    "This notebook demonstrated the layout-agnostic HAR model using the TDOST approach, where sensor triggers were converted into natural language descriptions and \n",
    "embedded using a pre-trained language model. This process improves the model's ability to generalize across different smart home layouts without additional retraining.\n",
    "\n",
    "Future improvements can include experimenting with different sentence embeddings and deep learning models for enhanced performance.\n"
   ]
  }
 ],
 "metadata": {
  "kernelspec": {
   "display_name": "base",
   "language": "python",
   "name": "python3"
  },
  "language_info": {
   "codemirror_mode": {
    "name": "ipython",
    "version": 3
   },
   "file_extension": ".py",
   "mimetype": "text/x-python",
   "name": "python",
   "nbconvert_exporter": "python",
   "pygments_lexer": "ipython3",
   "version": "3.12.4"
  }
 },
 "nbformat": 4,
 "nbformat_minor": 5
}
