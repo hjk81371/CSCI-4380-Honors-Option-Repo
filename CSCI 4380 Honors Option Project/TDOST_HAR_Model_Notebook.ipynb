{
 "cells": [
  {
   "cell_type": "markdown",
   "id": "275818fb",
   "metadata": {},
   "source": [
    "\n",
    "# Human Activity Recognition (HAR) with Textual Descriptions of Sensor Triggers (TDOST)\n",
    "This notebook demonstrates a layout-agnostic Human Activity Recognition (HAR) model using the TDOST (Textual Descriptions of Sensor Triggers) methodology. \n",
    "The model is trained on sensor data, converted into natural language descriptions, to improve generalizability across different smart home layouts.\n",
    "\n",
    "The data provided in `hh101.ann.txt` includes sensor triggers with associated activities, which we'll use to generate TDOST embeddings for activity recognition.\n"
   ]
  },
  {
   "cell_type": "code",
   "execution_count": 1,
   "id": "fdf5198f",
   "metadata": {},
   "outputs": [
    {
     "data": {
      "text/html": [
       "<div>\n",
       "<style scoped>\n",
       "    .dataframe tbody tr th:only-of-type {\n",
       "        vertical-align: middle;\n",
       "    }\n",
       "\n",
       "    .dataframe tbody tr th {\n",
       "        vertical-align: top;\n",
       "    }\n",
       "\n",
       "    .dataframe thead th {\n",
       "        text-align: right;\n",
       "    }\n",
       "</style>\n",
       "<table border=\"1\" class=\"dataframe\">\n",
       "  <thead>\n",
       "    <tr style=\"text-align: right;\">\n",
       "      <th></th>\n",
       "      <th>timestamp</th>\n",
       "      <th>sensor_id</th>\n",
       "      <th>location</th>\n",
       "      <th>value</th>\n",
       "      <th>sensor_type</th>\n",
       "      <th>activity</th>\n",
       "    </tr>\n",
       "  </thead>\n",
       "  <tbody>\n",
       "    <tr>\n",
       "      <th>2012-07-20 10:38:54.512364</th>\n",
       "      <td>M001</td>\n",
       "      <td>OutsideDoor</td>\n",
       "      <td>Entry</td>\n",
       "      <td>ON</td>\n",
       "      <td>Control4-Motion</td>\n",
       "      <td>Step_Out</td>\n",
       "    </tr>\n",
       "    <tr>\n",
       "      <th>2012-07-20 10:38:54.653634</th>\n",
       "      <td>LS001</td>\n",
       "      <td>Ignore</td>\n",
       "      <td>Ignore</td>\n",
       "      <td>49</td>\n",
       "      <td>Control4-LightSensor</td>\n",
       "      <td>Step_Out</td>\n",
       "    </tr>\n",
       "    <tr>\n",
       "      <th>2012-07-20 10:38:57.448892</th>\n",
       "      <td>LS001</td>\n",
       "      <td>Ignore</td>\n",
       "      <td>Ignore</td>\n",
       "      <td>7</td>\n",
       "      <td>Control4-LightSensor</td>\n",
       "      <td>Step_Out</td>\n",
       "    </tr>\n",
       "    <tr>\n",
       "      <th>2012-07-20 10:38:58.385068</th>\n",
       "      <td>LS001</td>\n",
       "      <td>Ignore</td>\n",
       "      <td>Ignore</td>\n",
       "      <td>50</td>\n",
       "      <td>Control4-LightSensor</td>\n",
       "      <td>Step_Out</td>\n",
       "    </tr>\n",
       "    <tr>\n",
       "      <th>2012-07-20 10:38:59.335432</th>\n",
       "      <td>LS001</td>\n",
       "      <td>Ignore</td>\n",
       "      <td>Ignore</td>\n",
       "      <td>7</td>\n",
       "      <td>Control4-LightSensor</td>\n",
       "      <td>Step_Out</td>\n",
       "    </tr>\n",
       "  </tbody>\n",
       "</table>\n",
       "</div>"
      ],
      "text/plain": [
       "                           timestamp    sensor_id location value  \\\n",
       "2012-07-20 10:38:54.512364      M001  OutsideDoor    Entry    ON   \n",
       "2012-07-20 10:38:54.653634     LS001       Ignore   Ignore    49   \n",
       "2012-07-20 10:38:57.448892     LS001       Ignore   Ignore     7   \n",
       "2012-07-20 10:38:58.385068     LS001       Ignore   Ignore    50   \n",
       "2012-07-20 10:38:59.335432     LS001       Ignore   Ignore     7   \n",
       "\n",
       "                                     sensor_type  activity  \n",
       "2012-07-20 10:38:54.512364       Control4-Motion  Step_Out  \n",
       "2012-07-20 10:38:54.653634  Control4-LightSensor  Step_Out  \n",
       "2012-07-20 10:38:57.448892  Control4-LightSensor  Step_Out  \n",
       "2012-07-20 10:38:58.385068  Control4-LightSensor  Step_Out  \n",
       "2012-07-20 10:38:59.335432  Control4-LightSensor  Step_Out  "
      ]
     },
     "execution_count": 1,
     "metadata": {},
     "output_type": "execute_result"
    }
   ],
   "source": [
    "\n",
    "import pandas as pd\n",
    "\n",
    "# Load the dataset\n",
    "data_path = '/Users/harrisonkirstein/Desktop/CSCI-4380-Honors-Option-Repo/CSCI 4380 Honors Option Project/hh101/hh101.ann.txt'\n",
    "columns = ['timestamp', 'sensor_id', 'location', 'value', 'sensor_type', 'activity']\n",
    "df = pd.read_csv(data_path, sep='\\t', header=None, names=columns)\n",
    "\n",
    "# Display the data\n",
    "df.head()\n"
   ]
  },
  {
   "cell_type": "markdown",
   "id": "9ed1b5fd",
   "metadata": {},
   "source": [
    "\n",
    "## Generate TDOST Descriptions\n",
    "We will create natural language descriptions for each sensor event by incorporating contextual information from the sensor type, location, and value. \n",
    "This will result in sentences that can be processed by a language model to produce embeddings for classification.\n"
   ]
  },
  {
   "cell_type": "code",
   "execution_count": null,
   "id": "3ee2bcb8",
   "metadata": {},
   "outputs": [],
   "source": [
    "\n",
    "# Function to create a TDOST sentence for each sensor event\n",
    "def generate_tdost(row):\n",
    "    return f\"{row['sensor_type']} sensor in {row['location']} fired with value {row['value']}\"\n",
    "\n",
    "# Apply the function to generate TDOST sentences\n",
    "df['tdost_description'] = df.apply(generate_tdost, axis=1)\n",
    "df[['tdost_description', 'activity']].head()\n"
   ]
  },
  {
   "cell_type": "markdown",
   "id": "01aed39d",
   "metadata": {},
   "source": [
    "\n",
    "## Text Embedding with Pre-trained Sentence Encoder\n",
    "Using a pre-trained sentence encoder (e.g., Sentence-BERT), we convert the TDOST descriptions into embeddings. \n",
    "These embeddings represent the contextual information within each description and serve as input for the activity classifier.\n"
   ]
  },
  {
   "cell_type": "code",
   "execution_count": null,
   "id": "e98f1bdb",
   "metadata": {},
   "outputs": [],
   "source": [
    "\n",
    "from sentence_transformers import SentenceTransformer\n",
    "\n",
    "# Load a pre-trained sentence transformer model\n",
    "model = SentenceTransformer('all-MiniLM-L6-v2')\n",
    "\n",
    "# Generate embeddings for each TDOST description\n",
    "df['embedding'] = df['tdost_description'].apply(lambda x: model.encode(x))\n",
    "df.head()\n"
   ]
  },
  {
   "cell_type": "markdown",
   "id": "b3330b58",
   "metadata": {},
   "source": [
    "\n",
    "## Model Definition and Training\n",
    "We define a simple neural network classifier to predict activities based on the TDOST embeddings. \n",
    "The model is trained using labeled activities in the dataset.\n"
   ]
  },
  {
   "cell_type": "code",
   "execution_count": null,
   "id": "14fb0cc2",
   "metadata": {},
   "outputs": [],
   "source": [
    "\n",
    "from sklearn.model_selection import train_test_split\n",
    "from sklearn.linear_model import LogisticRegression\n",
    "from sklearn.metrics import classification_report\n",
    "\n",
    "# Convert embeddings to list for training\n",
    "X = list(df['embedding'])\n",
    "y = df['activity']\n",
    "\n",
    "# Train-test split\n",
    "X_train, X_test, y_train, y_test = train_test_split(X, y, test_size=0.2, random_state=42)\n",
    "\n",
    "# Train a classifier\n",
    "clf = LogisticRegression(max_iter=1000)\n",
    "clf.fit(X_train, y_train)\n",
    "\n",
    "# Evaluate on test set\n",
    "y_pred = clf.predict(X_test)\n",
    "print(classification_report(y_test, y_pred))\n"
   ]
  },
  {
   "cell_type": "markdown",
   "id": "9a8410fc",
   "metadata": {},
   "source": [
    "\n",
    "## Summary\n",
    "This notebook demonstrated the layout-agnostic HAR model using the TDOST approach, where sensor triggers were converted into natural language descriptions and \n",
    "embedded using a pre-trained language model. This process improves the model's ability to generalize across different smart home layouts without additional retraining.\n",
    "\n",
    "Future improvements can include experimenting with different sentence embeddings and deep learning models for enhanced performance.\n"
   ]
  }
 ],
 "metadata": {
  "kernelspec": {
   "display_name": "base",
   "language": "python",
   "name": "python3"
  },
  "language_info": {
   "codemirror_mode": {
    "name": "ipython",
    "version": 3
   },
   "file_extension": ".py",
   "mimetype": "text/x-python",
   "name": "python",
   "nbconvert_exporter": "python",
   "pygments_lexer": "ipython3",
   "version": "3.12.4"
  }
 },
 "nbformat": 4,
 "nbformat_minor": 5
}
